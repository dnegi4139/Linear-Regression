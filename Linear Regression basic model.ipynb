{
 "cells": [
  {
   "cell_type": "code",
   "execution_count": 1,
   "id": "d76fc67f",
   "metadata": {},
   "outputs": [],
   "source": [
    "import numpy as np\n",
    "import pandas as pd \n",
    "import matplotlib.pyplot as plt"
   ]
  },
  {
   "cell_type": "markdown",
   "id": "71df7f28",
   "metadata": {},
   "source": [
    "#### Problem statement- Based on the value of x, predict the value of y using linear regression."
   ]
  },
  {
   "cell_type": "code",
   "execution_count": 3,
   "id": "2da5bf7d",
   "metadata": {},
   "outputs": [
    {
     "name": "stdout",
     "output_type": "stream",
     "text": [
      "21\n",
      "21\n"
     ]
    }
   ],
   "source": [
    "x= [20,30,85,44,96,65,74,15,35,37,91,96,75,21,10,13,75,58,85,35,95]\n",
    "y= [56,52,69,78,52,85,44,66,21,13,65,99,45,74,15,11,65,45,25,65,32]\n",
    "print(len(x))\n",
    "print(len(y))"
   ]
  },
  {
   "cell_type": "markdown",
   "id": "31d1f0f6",
   "metadata": {},
   "source": [
    "##### we are creating a dataframe which consists of values of x and y"
   ]
  },
  {
   "cell_type": "code",
   "execution_count": 4,
   "id": "a9ce7cdd",
   "metadata": {},
   "outputs": [
    {
     "data": {
      "text/html": [
       "<div>\n",
       "<style scoped>\n",
       "    .dataframe tbody tr th:only-of-type {\n",
       "        vertical-align: middle;\n",
       "    }\n",
       "\n",
       "    .dataframe tbody tr th {\n",
       "        vertical-align: top;\n",
       "    }\n",
       "\n",
       "    .dataframe thead th {\n",
       "        text-align: right;\n",
       "    }\n",
       "</style>\n",
       "<table border=\"1\" class=\"dataframe\">\n",
       "  <thead>\n",
       "    <tr style=\"text-align: right;\">\n",
       "      <th></th>\n",
       "      <th>x</th>\n",
       "      <th>y</th>\n",
       "    </tr>\n",
       "  </thead>\n",
       "  <tbody>\n",
       "    <tr>\n",
       "      <th>0</th>\n",
       "      <td>20</td>\n",
       "      <td>56</td>\n",
       "    </tr>\n",
       "    <tr>\n",
       "      <th>1</th>\n",
       "      <td>30</td>\n",
       "      <td>52</td>\n",
       "    </tr>\n",
       "    <tr>\n",
       "      <th>2</th>\n",
       "      <td>85</td>\n",
       "      <td>69</td>\n",
       "    </tr>\n",
       "    <tr>\n",
       "      <th>3</th>\n",
       "      <td>44</td>\n",
       "      <td>78</td>\n",
       "    </tr>\n",
       "    <tr>\n",
       "      <th>4</th>\n",
       "      <td>96</td>\n",
       "      <td>52</td>\n",
       "    </tr>\n",
       "  </tbody>\n",
       "</table>\n",
       "</div>"
      ],
      "text/plain": [
       "    x   y\n",
       "0  20  56\n",
       "1  30  52\n",
       "2  85  69\n",
       "3  44  78\n",
       "4  96  52"
      ]
     },
     "execution_count": 4,
     "metadata": {},
     "output_type": "execute_result"
    }
   ],
   "source": [
    "df=pd.DataFrame({'x':x,'y':y})\n",
    "df.head()"
   ]
  },
  {
   "cell_type": "code",
   "execution_count": 5,
   "id": "1d7a91bc",
   "metadata": {},
   "outputs": [
    {
     "data": {
      "image/png": "[encoded data removed]",
      "text/plain": [
       "<Figure size 640x480 with 1 Axes>"
      ]
     },
     "metadata": {},
     "output_type": "display_data"
    }
   ],
   "source": [
    "plt.scatter(df['x'],df['y'],color='orange',label='actual data')\n",
    "plt.title('x vs y -scatter plot')\n",
    "plt.xlabel('x')\n",
    "plt.ylabel('y')\n",
    "plt.legend()\n",
    "plt.grid()\n",
    "plt.show()"
   ]
  },
  {
   "cell_type": "code",
   "execution_count": 6,
   "id": "8dadc740",
   "metadata": {},
   "outputs": [
    {
     "name": "stdout",
     "output_type": "stream",
     "text": [
      "<class 'pandas.core.frame.DataFrame'>\n",
      "<class 'pandas.core.series.Series'>\n"
     ]
    }
   ],
   "source": [
    "#changing x into dataframe,since independent varirble must be a dataframe\n",
    "x=df[['x']]\n",
    "#changing y into series, since dependent variable must be a series\n",
    "y=df['y']\n",
    "print(type(x))\n",
    "print(type(y))"
   ]
  },
  {
   "cell_type": "markdown",
   "id": "df4674d0",
   "metadata": {},
   "source": [
    "### Model building steps:-"
   ]
  },
  {
   "cell_type": "markdown",
   "id": "de94c063",
   "metadata": {},
   "source": [
    "###### 1) Creating the model:-"
   ]
  },
  {
   "cell_type": "code",
   "execution_count": 8,
   "id": "a1f688e0",
   "metadata": {},
   "outputs": [],
   "source": [
    "# import the library\n",
    "from sklearn.linear_model import LinearRegression"
   ]
  },
  {
   "cell_type": "code",
   "execution_count": 11,
   "id": "ec9d60e1",
   "metadata": {},
   "outputs": [
    {
     "data": {
      "text/plain": [
       "LinearRegression()"
      ]
     },
     "execution_count": 11,
     "metadata": {},
     "output_type": "execute_result"
    }
   ],
   "source": [
    "model= LinearRegression()\n",
    "model.fit(x,y)\n",
    "\n",
    "\n",
    "#model.fit(x,y)- It means that the ML model is getting trained on the (x,y) data"
   ]
  },
  {
   "cell_type": "markdown",
   "id": "089ce476",
   "metadata": {},
   "source": [
    "##### 2) Generate the predictions:-\n"
   ]
  },
  {
   "cell_type": "code",
   "execution_count": 12,
   "id": "1e08cd2d",
   "metadata": {},
   "outputs": [
    {
     "name": "stdout",
     "output_type": "stream",
     "text": [
      "[43.3752862  45.63540851 58.06608122 48.79957974 60.55221576 53.5458366\n",
      " 55.57994668 42.24522504 46.76546966 47.21749413 59.42215461 60.55221576\n",
      " 55.80595891 43.60129843 41.11516389 41.79320058 55.80595891 51.96375098\n",
      " 58.06608122 46.76546966 60.32620353]\n"
     ]
    }
   ],
   "source": [
    "ypred=model.predict(x)\n",
    "print(ypred)"
   ]
  },
  {
   "cell_type": "code",
   "execution_count": 13,
   "id": "68c44685",
   "metadata": {},
   "outputs": [
    {
     "data": {
      "text/html": [
       "<div>\n",
       "<style scoped>\n",
       "    .dataframe tbody tr th:only-of-type {\n",
       "        vertical-align: middle;\n",
       "    }\n",
       "\n",
       "    .dataframe tbody tr th {\n",
       "        vertical-align: top;\n",
       "    }\n",
       "\n",
       "    .dataframe thead th {\n",
       "        text-align: right;\n",
       "    }\n",
       "</style>\n",
       "<table border=\"1\" class=\"dataframe\">\n",
       "  <thead>\n",
       "    <tr style=\"text-align: right;\">\n",
       "      <th></th>\n",
       "      <th>x</th>\n",
       "      <th>y</th>\n",
       "      <th>ypred</th>\n",
       "    </tr>\n",
       "  </thead>\n",
       "  <tbody>\n",
       "    <tr>\n",
       "      <th>0</th>\n",
       "      <td>20</td>\n",
       "      <td>56</td>\n",
       "      <td>43.375286</td>\n",
       "    </tr>\n",
       "    <tr>\n",
       "      <th>1</th>\n",
       "      <td>30</td>\n",
       "      <td>52</td>\n",
       "      <td>45.635409</td>\n",
       "    </tr>\n",
       "    <tr>\n",
       "      <th>2</th>\n",
       "      <td>85</td>\n",
       "      <td>69</td>\n",
       "      <td>58.066081</td>\n",
       "    </tr>\n",
       "    <tr>\n",
       "      <th>3</th>\n",
       "      <td>44</td>\n",
       "      <td>78</td>\n",
       "      <td>48.799580</td>\n",
       "    </tr>\n",
       "    <tr>\n",
       "      <th>4</th>\n",
       "      <td>96</td>\n",
       "      <td>52</td>\n",
       "      <td>60.552216</td>\n",
       "    </tr>\n",
       "  </tbody>\n",
       "</table>\n",
       "</div>"
      ],
      "text/plain": [
       "    x   y      ypred\n",
       "0  20  56  43.375286\n",
       "1  30  52  45.635409\n",
       "2  85  69  58.066081\n",
       "3  44  78  48.799580\n",
       "4  96  52  60.552216"
      ]
     },
     "execution_count": 13,
     "metadata": {},
     "output_type": "execute_result"
    }
   ],
   "source": [
    "df['ypred']=ypred\n",
    "df.head()"
   ]
  },
  {
   "cell_type": "markdown",
   "id": "47c33b87",
   "metadata": {},
   "source": [
    "##### 3) Compute model score(R2 score for Regression):-"
   ]
  },
  {
   "cell_type": "code",
   "execution_count": 14,
   "id": "dd5805b8",
   "metadata": {},
   "outputs": [
    {
     "name": "stdout",
     "output_type": "stream",
     "text": [
      "Model_Score 0.07891284315939129\n"
     ]
    }
   ],
   "source": [
    "print('Model_Score',model.score(x,y))"
   ]
  },
  {
   "cell_type": "markdown",
   "id": "bc0207e6",
   "metadata": {},
   "source": [
    "##### 4) Compute m and C values:-"
   ]
  },
  {
   "cell_type": "code",
   "execution_count": 15,
   "id": "5c2a734a",
   "metadata": {},
   "outputs": [
    {
     "name": "stdout",
     "output_type": "stream",
     "text": [
      "Coeffiecient or Slope [0.22601223]\n",
      "Intercept or Constant 38.855041573778394\n"
     ]
    }
   ],
   "source": [
    "m=model.coef_\n",
    "c=model.intercept_\n",
    "print('Coeffiecient or Slope',m)\n",
    "print('Intercept or Constant',c)"
   ]
  },
  {
   "cell_type": "markdown",
   "id": "9d902930",
   "metadata": {},
   "source": [
    "#### Equation to Linear Regression:-\n"
   ]
  },
  {
   "cell_type": "code",
   "execution_count": 16,
   "id": "542ffe18",
   "metadata": {},
   "outputs": [
    {
     "data": {
      "text/html": [
       "<div>\n",
       "<style scoped>\n",
       "    .dataframe tbody tr th:only-of-type {\n",
       "        vertical-align: middle;\n",
       "    }\n",
       "\n",
       "    .dataframe tbody tr th {\n",
       "        vertical-align: top;\n",
       "    }\n",
       "\n",
       "    .dataframe thead th {\n",
       "        text-align: right;\n",
       "    }\n",
       "</style>\n",
       "<table border=\"1\" class=\"dataframe\">\n",
       "  <thead>\n",
       "    <tr style=\"text-align: right;\">\n",
       "      <th></th>\n",
       "      <th>x</th>\n",
       "      <th>y</th>\n",
       "      <th>ypred</th>\n",
       "      <th>y_pred_eqn</th>\n",
       "    </tr>\n",
       "  </thead>\n",
       "  <tbody>\n",
       "    <tr>\n",
       "      <th>0</th>\n",
       "      <td>20</td>\n",
       "      <td>56</td>\n",
       "      <td>43.375286</td>\n",
       "      <td>43.375286</td>\n",
       "    </tr>\n",
       "    <tr>\n",
       "      <th>1</th>\n",
       "      <td>30</td>\n",
       "      <td>52</td>\n",
       "      <td>45.635409</td>\n",
       "      <td>45.635409</td>\n",
       "    </tr>\n",
       "    <tr>\n",
       "      <th>2</th>\n",
       "      <td>85</td>\n",
       "      <td>69</td>\n",
       "      <td>58.066081</td>\n",
       "      <td>58.066081</td>\n",
       "    </tr>\n",
       "    <tr>\n",
       "      <th>3</th>\n",
       "      <td>44</td>\n",
       "      <td>78</td>\n",
       "      <td>48.799580</td>\n",
       "      <td>48.799580</td>\n",
       "    </tr>\n",
       "    <tr>\n",
       "      <th>4</th>\n",
       "      <td>96</td>\n",
       "      <td>52</td>\n",
       "      <td>60.552216</td>\n",
       "      <td>60.552216</td>\n",
       "    </tr>\n",
       "  </tbody>\n",
       "</table>\n",
       "</div>"
      ],
      "text/plain": [
       "    x   y      ypred  y_pred_eqn\n",
       "0  20  56  43.375286   43.375286\n",
       "1  30  52  45.635409   45.635409\n",
       "2  85  69  58.066081   58.066081\n",
       "3  44  78  48.799580   48.799580\n",
       "4  96  52  60.552216   60.552216"
      ]
     },
     "execution_count": 16,
     "metadata": {},
     "output_type": "execute_result"
    }
   ],
   "source": [
    "# ypred=mx+c\n",
    "df['y_pred_eqn']=m*df['x']+c\n",
    "df.head()"
   ]
  },
  {
   "cell_type": "code",
   "execution_count": 18,
   "id": "6c00d7db",
   "metadata": {},
   "outputs": [
    {
     "data": {
      "image/png": "[encoded data removed]",
      "text/plain": [
       "<Figure size 640x480 with 1 Axes>"
      ]
     },
     "metadata": {},
     "output_type": "display_data"
    },
    {
     "name": "stderr",
     "output_type": "stream",
     "text": [
      "No artists with labels found to put in legend.  Note that artists whose label start with an underscore are ignored when legend() is called with no argument.\n"
     ]
    },
    {
     "data": {
      "text/plain": [
       "<matplotlib.legend.Legend at 0x1ef06b6f6a0>"
      ]
     },
     "execution_count": 18,
     "metadata": {},
     "output_type": "execute_result"
    },
    {
     "data": {
      "image/png": "[encoded data removed]",
      "text/plain": [
       "<Figure size 640x480 with 1 Axes>"
      ]
     },
     "metadata": {},
     "output_type": "display_data"
    }
   ],
   "source": [
    "plt.scatter(df['x'],df['y'],label='Actual Data')\n",
    "plt.plot(df['x'],df['y_pred_eqn'],color='maroon',label=\"Predicted Line\")\n",
    "plt.xlabel('x')\n",
    "plt.ylabel('y')\n",
    "plt.grid()\n",
    "plt.show()\n",
    "plt.legend()"
   ]
  },
  {
   "cell_type": "code",
   "execution_count": 19,
   "id": "03e9ce85",
   "metadata": {},
   "outputs": [],
   "source": [
    "from sklearn.metrics import mean_squared_error, mean_absolute_error,r2_score"
   ]
  },
  {
   "cell_type": "code",
   "execution_count": 21,
   "id": "13648439",
   "metadata": {},
   "outputs": [
    {
     "name": "stdout",
     "output_type": "stream",
     "text": [
      "MAE 20.58909384082608\n",
      "MSE 538.5414894975282\n",
      "RMSE 23.206496708842725\n",
      "r2_score 0.07891284315939129\n"
     ]
    }
   ],
   "source": [
    "mae=mean_absolute_error(y,ypred)\n",
    "mse=mean_squared_error(y,ypred)\n",
    "rmse=np.sqrt(mean_squared_error(y,ypred))\n",
    "r2s=r2_score(y,ypred)\n",
    "print('MAE',mae)\n",
    "print('MSE',mse)\n",
    "print('RMSE',rmse)\n",
    "print('r2_score',r2s)"
   ]
  },
  {
   "cell_type": "markdown",
   "id": "1da1e6a6",
   "metadata": {},
   "source": [
    "### Predictions for single value<br>\n",
    "#### Predict y for x=58"
   ]
  },
  {
   "cell_type": "code",
   "execution_count": 22,
   "id": "b2896061",
   "metadata": {},
   "outputs": [
    {
     "name": "stdout",
     "output_type": "stream",
     "text": [
      "[51.73773875]\n"
     ]
    },
    {
     "name": "stderr",
     "output_type": "stream",
     "text": [
      "F:\\anaconda\\lib\\site-packages\\sklearn\\base.py:450: UserWarning: X does not have valid feature names, but LinearRegression was fitted with feature names\n",
      "  warnings.warn(\n"
     ]
    }
   ],
   "source": [
    "ypred58_m1=model.predict([[57]])\n",
    "print(ypred58_m1)"
   ]
  },
  {
   "cell_type": "code",
   "execution_count": null,
   "id": "d7907022",
   "metadata": {},
   "outputs": [],
   "source": [
    "   "
   ]
  }
 ],
 "metadata": {
  "kernelspec": {
   "display_name": "Python 3 (ipykernel)",
   "language": "python",
   "name": "python3"
  },
  "language_info": {
   "codemirror_mode": {
    "name": "ipython",
    "version": 3
   },
   "file_extension": ".py",
   "mimetype": "text/x-python",
   "name": "python",
   "nbconvert_exporter": "python",
   "pygments_lexer": "ipython3",
   "version": "3.9.13"
  }
 },
 "nbformat": 4,
 "nbformat_minor": 5
}
